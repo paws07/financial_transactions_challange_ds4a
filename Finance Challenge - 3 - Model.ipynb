{
 "cells": [
  {
   "cell_type": "code",
   "execution_count": 40,
   "id": "1aff284a",
   "metadata": {
    "ExecuteTime": {
     "end_time": "2023-11-14T05:42:09.125691Z",
     "start_time": "2023-11-14T05:42:09.121909Z"
    }
   },
   "outputs": [],
   "source": [
    "import xgboost as xgb\n",
    "import optuna\n",
    "import numpy as np\n",
    "import pandas as pd\n",
    "from sklearn.metrics import (\n",
    "    accuracy_score,\n",
    "    precision_score,\n",
    "    recall_score,\n",
    "    f1_score,\n",
    "    confusion_matrix,\n",
    "    ConfusionMatrixDisplay,\n",
    ")\n",
    "from sklearn.utils.class_weight import compute_sample_weight\n",
    "from sklearn.model_selection import train_test_split\n",
    "from sklearn.preprocessing import LabelEncoder\n",
    "import matplotlib.pyplot as plt"
   ]
  },
  {
   "cell_type": "code",
   "execution_count": 41,
   "id": "71f25a2b",
   "metadata": {
    "ExecuteTime": {
     "end_time": "2023-11-14T05:42:09.335735Z",
     "start_time": "2023-11-14T05:42:09.329436Z"
    }
   },
   "outputs": [],
   "source": [
    "# Helper functions \n",
    "\n",
    "def metrics(y_true, y_pred):\n",
    "    \"\"\"Given two iterables of the same length, generate accuracy and precision metrics\n",
    "    If its a binary classification for storage, plot a confusion matrix\"\"\"\n",
    "    metrics = {}\n",
    "    metrics[\"Accuracy\"] = round(accuracy_score(y_true, y_pred), 3)\n",
    "    metrics[\"Precision\"] = round(precision_score(y_true, y_pred), 3)\n",
    "    metrics[\"Recall\"] = round(recall_score(y_true, y_pred), 3)\n",
    "    metrics[\"F1 Score\"] = round(f1_score(y_true, y_pred), 3)\n",
    "\n",
    "    \n",
    "    fig, ax = plt.subplots(figsize=(5, 4))\n",
    "    g = ConfusionMatrixDisplay(\n",
    "        confusion_matrix=confusion_matrix(y_true, y_pred),\n",
    "        display_labels=[\"Not Fraud\", \"Fraud\"],\n",
    "    )\n",
    "    g = g.plot(cmap=plt.cm.Blues, values_format=\"g\", ax=ax)\n",
    "    plt.show()\n",
    "    return metrics"
   ]
  },
  {
   "cell_type": "code",
   "execution_count": 42,
   "id": "011268b5",
   "metadata": {
    "ExecuteTime": {
     "end_time": "2023-11-14T05:42:10.750175Z",
     "start_time": "2023-11-14T05:42:09.521541Z"
    }
   },
   "outputs": [],
   "source": [
    "transactions = pd.read_parquet('joined_transactions.parquet')"
   ]
  },
  {
   "cell_type": "code",
   "execution_count": 43,
   "id": "2e563b27",
   "metadata": {
    "ExecuteTime": {
     "end_time": "2023-11-14T05:42:10.778218Z",
     "start_time": "2023-11-14T05:42:10.755114Z"
    }
   },
   "outputs": [
    {
     "data": {
      "text/plain": [
       "Index(['Card', 'Amount', 'Use Chip', 'Merchant State', 'MCC', 'Errors',\n",
       "       'Current Age', 'Yearly Income - Person', 'FICO Score', 'DayOnlyTime',\n",
       "       'Num Credit Cards', 'CurrentlyRetired', 'DebtIncomeRatio',\n",
       "       'ZipIncomeRatio', 'Card Brand', 'Card Type', 'Has Chip', 'Cards Issued',\n",
       "       'Credit Limit', 'MerchantCustomerStateMatch',\n",
       "       'InternationalTransaction', 'Fraud'],\n",
       "      dtype='object')"
      ]
     },
     "execution_count": 43,
     "metadata": {},
     "output_type": "execute_result"
    }
   ],
   "source": [
    "transactions.columns"
   ]
  },
  {
   "cell_type": "code",
   "execution_count": 45,
   "id": "64870424",
   "metadata": {
    "ExecuteTime": {
     "end_time": "2023-11-14T05:42:20.378110Z",
     "start_time": "2023-11-14T05:42:20.372618Z"
    }
   },
   "outputs": [],
   "source": [
    "numeric_columns = [ 'Amount', 'Current Age', 'Yearly Income - Person', 'FICO Score',\n",
    "                   'Num Credit Cards', 'DebtIncomeRatio',\n",
    "                   'ZipIncomeRatio', 'Cards Issued', 'Credit Limit']\n",
    "\n",
    "categorical_columns = ['Card', 'Use Chip', 'Merchant State', 'MCC', 'Errors', \n",
    "                       'CurrentlyRetired', 'Card Brand', 'Card Type', 'Has Chip', 'DayOnlyTime',\n",
    "                       'MerchantCustomerStateMatch', 'InternationalTransaction', 'Fraud']"
   ]
  },
  {
   "cell_type": "code",
   "execution_count": 46,
   "id": "cb1ba43f",
   "metadata": {
    "ExecuteTime": {
     "end_time": "2023-11-14T05:42:30.246012Z",
     "start_time": "2023-11-14T05:42:20.818330Z"
    }
   },
   "outputs": [],
   "source": [
    "le = LabelEncoder()\n",
    "for col in categorical_columns:\n",
    "    transactions[col] = le.fit_transform(transactions[col])\n",
    "    transactions[col] = transactions[col].astype(\"category\")"
   ]
  },
  {
   "cell_type": "code",
   "execution_count": 47,
   "id": "6ac2d4df",
   "metadata": {
    "ExecuteTime": {
     "end_time": "2023-11-14T05:42:35.151299Z",
     "start_time": "2023-11-14T05:42:30.248584Z"
    }
   },
   "outputs": [],
   "source": [
    "# Split off testing dataset\n",
    "X_other, X_test, y_other, y_test = train_test_split(transactions.drop(columns='Fraud'),\n",
    "                                                    transactions['Fraud'],\n",
    "                                                    test_size=.2, \n",
    "                                                    stratify=transactions['Fraud'],\n",
    "                                                    random_state=42)"
   ]
  },
  {
   "cell_type": "code",
   "execution_count": 48,
   "id": "4cba4f8c",
   "metadata": {
    "ExecuteTime": {
     "end_time": "2023-11-14T05:42:38.580481Z",
     "start_time": "2023-11-14T05:42:35.156168Z"
    }
   },
   "outputs": [],
   "source": [
    "# Split off validation dataset\n",
    "X_train, X_val, y_train, y_val = train_test_split(X_other,\n",
    "                                                  y_other,\n",
    "                                                  test_size=.2, \n",
    "                                                  stratify=y_other,\n",
    "                                                  random_state=42)"
   ]
  },
  {
   "cell_type": "code",
   "execution_count": 49,
   "id": "cf460008",
   "metadata": {
    "ExecuteTime": {
     "end_time": "2023-11-14T05:42:39.043722Z",
     "start_time": "2023-11-14T05:42:38.585256Z"
    }
   },
   "outputs": [
    {
     "name": "stdout",
     "output_type": "stream",
     "text": [
      "Mon Nov 13 22:42:38 2023       \r\n",
      "+---------------------------------------------------------------------------------------+\r\n",
      "| NVIDIA-SMI 535.86.01              Driver Version: 536.67       CUDA Version: 12.2     |\r\n",
      "|-----------------------------------------+----------------------+----------------------+\r\n",
      "| GPU  Name                 Persistence-M | Bus-Id        Disp.A | Volatile Uncorr. ECC |\r\n",
      "| Fan  Temp   Perf          Pwr:Usage/Cap |         Memory-Usage | GPU-Util  Compute M. |\r\n",
      "|                                         |                      |               MIG M. |\r\n",
      "|=========================================+======================+======================|\r\n",
      "|   0  Quadro P4000                   On  | 00000000:65:00.0  On |                  N/A |\r\n",
      "| 48%   39C    P8              10W / 105W |   1086MiB /  8192MiB |      1%      Default |\r\n",
      "|                                         |                      |                  N/A |\r\n",
      "+-----------------------------------------+----------------------+----------------------+\r\n",
      "                                                                                         \r\n",
      "+---------------------------------------------------------------------------------------+\r\n",
      "| Processes:                                                                            |\r\n",
      "|  GPU   GI   CI        PID   Type   Process name                            GPU Memory |\r\n",
      "|        ID   ID                                                             Usage      |\r\n",
      "|=======================================================================================|\r\n",
      "|  No running processes found                                                           |\r\n",
      "+---------------------------------------------------------------------------------------+\r\n"
     ]
    }
   ],
   "source": [
    "!nvidia-smi"
   ]
  },
  {
   "cell_type": "code",
   "execution_count": 50,
   "id": "7315ff83",
   "metadata": {
    "ExecuteTime": {
     "end_time": "2023-11-14T05:42:39.938463Z",
     "start_time": "2023-11-14T05:42:39.050422Z"
    }
   },
   "outputs": [
    {
     "data": {
      "text/plain": [
       "array([  0.50061228, 408.81104375])"
      ]
     },
     "execution_count": 50,
     "metadata": {},
     "output_type": "execute_result"
    }
   ],
   "source": [
    "# Understand the undersampling\n",
    "sample_weights = compute_sample_weight(\n",
    "    class_weight='balanced',\n",
    "    y=[0,1],\n",
    "    indices=transactions['Fraud']\n",
    ")\n",
    "\n",
    "sample_weights"
   ]
  },
  {
   "cell_type": "code",
   "execution_count": 79,
   "id": "dea02819",
   "metadata": {
    "ExecuteTime": {
     "end_time": "2023-11-14T06:44:11.173255Z",
     "start_time": "2023-11-14T06:44:11.166683Z"
    }
   },
   "outputs": [],
   "source": [
    "def objective(trial):\n",
    "    param = {\n",
    "        \"verbosity\": 1,\n",
    "        \"enable_categorical\":trial.suggest_categorical(\"enable_categorical\", [True]),\n",
    "        \"objective\": trial.suggest_categorical(\"objective\", [\"binary:logistic\"]),\n",
    "        \"device\": trial.suggest_categorical(\"device\", ['cuda']),\n",
    "        \"n_estimators\" : trial.suggest_int(\"n_estimators\", 200, 500),\n",
    "        \"scale_pos_weight\" : trial.suggest_categorical(\"scale_pos_weight\", [30,80, 400]),\n",
    "        # L2 regularization weight.\n",
    "        \"lambda\": trial.suggest_float(\"lambda\", 1e-8, 1.0, log=True),\n",
    "        # L1 regularization weight.\n",
    "        \"alpha\": trial.suggest_float(\"alpha\", 1e-8, 1.0, log=True),\n",
    "        # maximum depth of the tree, signifies complexity of the tree.\n",
    "        \"max_depth\": trial.suggest_int(\"max_depth\", 3, 9, step=2),\n",
    "        \"min_child_weight\" : trial.suggest_int(\"min_child_weight\", 2, 10),\n",
    "        \"eta\" : trial.suggest_float(\"eta\", 1e-8, 1.0, log=True),        \n",
    "        #\"tree_method\":\"hist\"\n",
    "    }\n",
    "    \n",
    "    model = xgb.XGBClassifier(**param)\n",
    "    model.fit(X_train, y_train)\n",
    "              \n",
    "    preds = model.predict(X_val)\n",
    "    pred_labels = (preds > .5).astype(int)\n",
    "    \n",
    "    # Recall for fraud\n",
    "    recall = recall_score(pred_labels, y_val)\n",
    "    \n",
    "    return recall"
   ]
  },
  {
   "cell_type": "code",
   "execution_count": 80,
   "id": "88d8d817",
   "metadata": {
    "ExecuteTime": {
     "end_time": "2023-11-14T07:10:33.780722Z",
     "start_time": "2023-11-14T06:44:11.409168Z"
    }
   },
   "outputs": [
    {
     "name": "stderr",
     "output_type": "stream",
     "text": [
      "[I 2023-11-13 23:44:11,410] A new study created in memory with name: no-name-f849aa4a-c3c7-4e73-bc7f-a2b7a28d40fa\n",
      "/home/swap/.local/lib/python3.10/site-packages/sklearn/metrics/_classification.py:1469: UndefinedMetricWarning:\n",
      "\n",
      "Recall is ill-defined and being set to 0.0 due to no true samples. Use `zero_division` parameter to control this behavior.\n",
      "\n",
      "[I 2023-11-13 23:44:29,442] Trial 0 finished with value: 0.0 and parameters: {'enable_categorical': True, 'objective': 'binary:logistic', 'device': 'cuda', 'n_estimators': 286, 'scale_pos_weight': 80, 'lambda': 5.4855793156996295e-05, 'alpha': 0.0010791214993351925, 'max_depth': 5, 'min_child_weight': 8, 'eta': 0.00011168094240516671}. Best is trial 0 with value: 0.0.\n",
      "/home/swap/.local/lib/python3.10/site-packages/sklearn/metrics/_classification.py:1469: UndefinedMetricWarning:\n",
      "\n",
      "Recall is ill-defined and being set to 0.0 due to no true samples. Use `zero_division` parameter to control this behavior.\n",
      "\n",
      "[I 2023-11-13 23:45:00,103] Trial 1 finished with value: 0.0 and parameters: {'enable_categorical': True, 'objective': 'binary:logistic', 'device': 'cuda', 'n_estimators': 470, 'scale_pos_weight': 400, 'lambda': 1.2903689413502906e-08, 'alpha': 0.7030112430061282, 'max_depth': 5, 'min_child_weight': 5, 'eta': 1.6308111151710005e-05}. Best is trial 0 with value: 0.0.\n",
      "[I 2023-11-13 23:45:21,688] Trial 2 finished with value: 0.6360655737704918 and parameters: {'enable_categorical': True, 'objective': 'binary:logistic', 'device': 'cuda', 'n_estimators': 408, 'scale_pos_weight': 30, 'lambda': 0.026354563391066815, 'alpha': 9.561024280545882e-08, 'max_depth': 3, 'min_child_weight': 3, 'eta': 0.3163072914218871}. Best is trial 2 with value: 0.6360655737704918.\n",
      "[I 2023-11-13 23:45:55,070] Trial 3 finished with value: 0.8307233407904548 and parameters: {'enable_categorical': True, 'objective': 'binary:logistic', 'device': 'cuda', 'n_estimators': 435, 'scale_pos_weight': 400, 'lambda': 0.5275734525198577, 'alpha': 0.03490028289067569, 'max_depth': 7, 'min_child_weight': 6, 'eta': 0.2825060517725391}. Best is trial 3 with value: 0.8307233407904548.\n",
      "/home/swap/.local/lib/python3.10/site-packages/sklearn/metrics/_classification.py:1469: UndefinedMetricWarning:\n",
      "\n",
      "Recall is ill-defined and being set to 0.0 due to no true samples. Use `zero_division` parameter to control this behavior.\n",
      "\n",
      "[I 2023-11-13 23:46:24,964] Trial 4 finished with value: 0.0 and parameters: {'enable_categorical': True, 'objective': 'binary:logistic', 'device': 'cuda', 'n_estimators': 389, 'scale_pos_weight': 80, 'lambda': 3.377885432343071e-07, 'alpha': 5.1502628017980156e-08, 'max_depth': 7, 'min_child_weight': 9, 'eta': 2.2215181694837125e-06}. Best is trial 3 with value: 0.8307233407904548.\n",
      "[I 2023-11-13 23:46:42,671] Trial 5 finished with value: 0.0824944437181331 and parameters: {'enable_categorical': True, 'objective': 'binary:logistic', 'device': 'cuda', 'n_estimators': 236, 'scale_pos_weight': 400, 'lambda': 0.0031084242736333133, 'alpha': 2.8506240417694793e-05, 'max_depth': 5, 'min_child_weight': 4, 'eta': 0.042660559449926944}. Best is trial 3 with value: 0.8307233407904548.\n",
      "/home/swap/.local/lib/python3.10/site-packages/sklearn/metrics/_classification.py:1469: UndefinedMetricWarning:\n",
      "\n",
      "Recall is ill-defined and being set to 0.0 due to no true samples. Use `zero_division` parameter to control this behavior.\n",
      "\n",
      "[I 2023-11-13 23:47:01,785] Trial 6 finished with value: 0.0 and parameters: {'enable_categorical': True, 'objective': 'binary:logistic', 'device': 'cuda', 'n_estimators': 377, 'scale_pos_weight': 80, 'lambda': 0.017547663091777126, 'alpha': 0.03492409937812596, 'max_depth': 3, 'min_child_weight': 6, 'eta': 2.0059170241822287e-08}. Best is trial 3 with value: 0.8307233407904548.\n",
      "/home/swap/.local/lib/python3.10/site-packages/sklearn/metrics/_classification.py:1469: UndefinedMetricWarning:\n",
      "\n",
      "Recall is ill-defined and being set to 0.0 due to no true samples. Use `zero_division` parameter to control this behavior.\n",
      "\n",
      "[I 2023-11-13 23:47:21,054] Trial 7 finished with value: 0.0 and parameters: {'enable_categorical': True, 'objective': 'binary:logistic', 'device': 'cuda', 'n_estimators': 235, 'scale_pos_weight': 80, 'lambda': 1.9988225585739988e-05, 'alpha': 7.558852388886742e-08, 'max_depth': 7, 'min_child_weight': 3, 'eta': 0.00029500489331418935}. Best is trial 3 with value: 0.8307233407904548.\n",
      "/home/swap/.local/lib/python3.10/site-packages/sklearn/metrics/_classification.py:1469: UndefinedMetricWarning:\n",
      "\n",
      "Recall is ill-defined and being set to 0.0 due to no true samples. Use `zero_division` parameter to control this behavior.\n",
      "\n",
      "[I 2023-11-13 23:47:47,637] Trial 8 finished with value: 0.0 and parameters: {'enable_categorical': True, 'objective': 'binary:logistic', 'device': 'cuda', 'n_estimators': 404, 'scale_pos_weight': 400, 'lambda': 1.173721603692109e-06, 'alpha': 1.6824217975824503e-06, 'max_depth': 5, 'min_child_weight': 5, 'eta': 1.984593358046158e-07}. Best is trial 3 with value: 0.8307233407904548.\n",
      "[I 2023-11-13 23:48:03,743] Trial 9 finished with value: 0.2995415180845644 and parameters: {'enable_categorical': True, 'objective': 'binary:logistic', 'device': 'cuda', 'n_estimators': 206, 'scale_pos_weight': 80, 'lambda': 0.0005091492484620659, 'alpha': 0.0005725628147786522, 'max_depth': 5, 'min_child_weight': 7, 'eta': 0.03333276398616371}. Best is trial 3 with value: 0.8307233407904548.\n",
      "[I 2023-11-13 23:48:43,873] Trial 10 finished with value: 0.8721023181454837 and parameters: {'enable_categorical': True, 'objective': 'binary:logistic', 'device': 'cuda', 'n_estimators': 492, 'scale_pos_weight': 30, 'lambda': 0.815828965768391, 'alpha': 0.017221233112224867, 'max_depth': 9, 'min_child_weight': 10, 'eta': 0.9353052207908593}. Best is trial 10 with value: 0.8721023181454837.\n",
      "[I 2023-11-13 23:49:24,223] Trial 11 finished with value: 0.9 and parameters: {'enable_categorical': True, 'objective': 'binary:logistic', 'device': 'cuda', 'n_estimators': 479, 'scale_pos_weight': 30, 'lambda': 0.6224268941182626, 'alpha': 0.017567160437197013, 'max_depth': 9, 'min_child_weight': 10, 'eta': 0.43304830341087985}. Best is trial 11 with value: 0.9.\n",
      "[I 2023-11-13 23:50:03,768] Trial 12 finished with value: 0.8691813804173355 and parameters: {'enable_categorical': True, 'objective': 'binary:logistic', 'device': 'cuda', 'n_estimators': 495, 'scale_pos_weight': 30, 'lambda': 0.290075156409024, 'alpha': 0.008757356924913954, 'max_depth': 9, 'min_child_weight': 10, 'eta': 0.9918412251595708}. Best is trial 11 with value: 0.9.\n",
      "[I 2023-11-13 23:50:32,229] Trial 13 finished with value: 0.7693935119887165 and parameters: {'enable_categorical': True, 'objective': 'binary:logistic', 'device': 'cuda', 'n_estimators': 322, 'scale_pos_weight': 30, 'lambda': 0.3781104222651197, 'alpha': 0.521805149130428, 'max_depth': 9, 'min_child_weight': 10, 'eta': 0.004362447404715039}. Best is trial 11 with value: 0.9.\n",
      "[I 2023-11-13 23:51:15,399] Trial 14 finished with value: 0.7079081632653061 and parameters: {'enable_categorical': True, 'objective': 'binary:logistic', 'device': 'cuda', 'n_estimators': 498, 'scale_pos_weight': 30, 'lambda': 0.7727348126969245, 'alpha': 9.308510932054642e-05, 'max_depth': 9, 'min_child_weight': 8, 'eta': 0.004754525817193868}. Best is trial 11 with value: 0.9.\n",
      "[I 2023-11-13 23:51:52,918] Trial 15 finished with value: 0.8915365653245686 and parameters: {'enable_categorical': True, 'objective': 'binary:logistic', 'device': 'cuda', 'n_estimators': 449, 'scale_pos_weight': 30, 'lambda': 0.029529212871231395, 'alpha': 0.005496051478135677, 'max_depth': 9, 'min_child_weight': 9, 'eta': 0.8754955680340275}. Best is trial 11 with value: 0.9.\n",
      "[I 2023-11-13 23:52:34,065] Trial 16 finished with value: 0.8167272727272727 and parameters: {'enable_categorical': True, 'objective': 'binary:logistic', 'device': 'cuda', 'n_estimators': 454, 'scale_pos_weight': 30, 'lambda': 0.01637652416330026, 'alpha': 0.0018900167326730076, 'max_depth': 9, 'min_child_weight': 8, 'eta': 0.06193767143579599}. Best is trial 11 with value: 0.9.\n",
      "[I 2023-11-13 23:53:00,660] Trial 17 finished with value: 0.865046102263202 and parameters: {'enable_categorical': True, 'objective': 'binary:logistic', 'device': 'cuda', 'n_estimators': 350, 'scale_pos_weight': 30, 'lambda': 0.06511736985429244, 'alpha': 0.18938417799552423, 'max_depth': 7, 'min_child_weight': 9, 'eta': 0.0021494453108422944}. Best is trial 11 with value: 0.9.\n"
     ]
    },
    {
     "name": "stderr",
     "output_type": "stream",
     "text": [
      "[I 2023-11-13 23:53:39,935] Trial 18 finished with value: 0.8619607843137255 and parameters: {'enable_categorical': True, 'objective': 'binary:logistic', 'device': 'cuda', 'n_estimators': 430, 'scale_pos_weight': 30, 'lambda': 0.004848422548156239, 'alpha': 0.0033491044553340186, 'max_depth': 9, 'min_child_weight': 9, 'eta': 0.10746865684653151}. Best is trial 11 with value: 0.9.\n",
      "[I 2023-11-13 23:54:15,215] Trial 19 finished with value: 0.6385269121813031 and parameters: {'enable_categorical': True, 'objective': 'binary:logistic', 'device': 'cuda', 'n_estimators': 458, 'scale_pos_weight': 30, 'lambda': 0.07504835820866276, 'alpha': 0.08759916423156422, 'max_depth': 7, 'min_child_weight': 7, 'eta': 0.01056990349933552}. Best is trial 11 with value: 0.9.\n",
      "/home/swap/.local/lib/python3.10/site-packages/sklearn/metrics/_classification.py:1469: UndefinedMetricWarning:\n",
      "\n",
      "Recall is ill-defined and being set to 0.0 due to no true samples. Use `zero_division` parameter to control this behavior.\n",
      "\n",
      "[I 2023-11-13 23:54:48,500] Trial 20 finished with value: 0.0 and parameters: {'enable_categorical': True, 'objective': 'binary:logistic', 'device': 'cuda', 'n_estimators': 341, 'scale_pos_weight': 30, 'lambda': 0.0009715264283940027, 'alpha': 0.0004087583584025887, 'max_depth': 9, 'min_child_weight': 2, 'eta': 0.0006630299468556033}. Best is trial 11 with value: 0.9.\n",
      "[I 2023-11-13 23:55:28,137] Trial 21 finished with value: 0.8875205254515599 and parameters: {'enable_categorical': True, 'objective': 'binary:logistic', 'device': 'cuda', 'n_estimators': 473, 'scale_pos_weight': 30, 'lambda': 0.1344675364622336, 'alpha': 0.013254414538542071, 'max_depth': 9, 'min_child_weight': 10, 'eta': 0.7473799090910547}. Best is trial 11 with value: 0.9.\n",
      "[I 2023-11-13 23:56:06,510] Trial 22 finished with value: 0.8717339667458432 and parameters: {'enable_categorical': True, 'objective': 'binary:logistic', 'device': 'cuda', 'n_estimators': 433, 'scale_pos_weight': 30, 'lambda': 0.1041862476943692, 'alpha': 0.008245089184977933, 'max_depth': 9, 'min_child_weight': 10, 'eta': 0.19359282629022345}. Best is trial 11 with value: 0.9.\n",
      "[I 2023-11-13 23:56:40,883] Trial 23 finished with value: 0.3074371025711916 and parameters: {'enable_categorical': True, 'objective': 'binary:logistic', 'device': 'cuda', 'n_estimators': 460, 'scale_pos_weight': 30, 'lambda': 0.09243358550752953, 'alpha': 0.08974564855095979, 'max_depth': 7, 'min_child_weight': 9, 'eta': 0.9930719948929416}. Best is trial 11 with value: 0.9.\n",
      "[I 2023-11-13 23:57:22,590] Trial 24 finished with value: 0.7101631116687579 and parameters: {'enable_categorical': True, 'objective': 'binary:logistic', 'device': 'cuda', 'n_estimators': 476, 'scale_pos_weight': 30, 'lambda': 0.0056523689621552076, 'alpha': 0.005816016293933807, 'max_depth': 9, 'min_child_weight': 10, 'eta': 0.02079739836846296}. Best is trial 11 with value: 0.9.\n",
      "[I 2023-11-13 23:57:59,744] Trial 25 finished with value: 0.8672985781990521 and parameters: {'enable_categorical': True, 'objective': 'binary:logistic', 'device': 'cuda', 'n_estimators': 427, 'scale_pos_weight': 30, 'lambda': 0.12310889341400966, 'alpha': 0.025430593963339767, 'max_depth': 9, 'min_child_weight': 9, 'eta': 0.12680447584602575}. Best is trial 11 with value: 0.9.\n",
      "[I 2023-11-13 23:58:35,300] Trial 26 finished with value: 0.6264462809917355 and parameters: {'enable_categorical': True, 'objective': 'binary:logistic', 'device': 'cuda', 'n_estimators': 473, 'scale_pos_weight': 30, 'lambda': 0.020223451992796286, 'alpha': 0.002307375719316039, 'max_depth': 7, 'min_child_weight': 7, 'eta': 0.013781349703281506}. Best is trial 11 with value: 0.9.\n",
      "[I 2023-11-13 23:59:11,508] Trial 27 finished with value: 0.8890688259109312 and parameters: {'enable_categorical': True, 'objective': 'binary:logistic', 'device': 'cuda', 'n_estimators': 412, 'scale_pos_weight': 30, 'lambda': 0.995615278038733, 'alpha': 0.1535769236283051, 'max_depth': 9, 'min_child_weight': 8, 'eta': 0.24833776715837644}. Best is trial 11 with value: 0.9.\n",
      "[I 2023-11-13 23:59:41,105] Trial 28 finished with value: 0.38058502089360335 and parameters: {'enable_categorical': True, 'objective': 'binary:logistic', 'device': 'cuda', 'n_estimators': 372, 'scale_pos_weight': 400, 'lambda': 0.9753040563399181, 'alpha': 0.1769664991649197, 'max_depth': 7, 'min_child_weight': 8, 'eta': 0.08767217700362998}. Best is trial 11 with value: 0.9.\n",
      "[I 2023-11-14 00:00:17,777] Trial 29 finished with value: 0.884522854851644 and parameters: {'enable_categorical': True, 'objective': 'binary:logistic', 'device': 'cuda', 'n_estimators': 407, 'scale_pos_weight': 30, 'lambda': 0.267427088475396, 'alpha': 0.5813996634498401, 'max_depth': 9, 'min_child_weight': 8, 'eta': 0.24229639121656207}. Best is trial 11 with value: 0.9.\n",
      "[I 2023-11-14 00:00:57,632] Trial 30 finished with value: 0.5511661113755355 and parameters: {'enable_categorical': True, 'objective': 'binary:logistic', 'device': 'cuda', 'n_estimators': 441, 'scale_pos_weight': 80, 'lambda': 0.9299147129888512, 'alpha': 0.0008959605989128101, 'max_depth': 9, 'min_child_weight': 7, 'eta': 0.02811107338550407}. Best is trial 11 with value: 0.9.\n",
      "[I 2023-11-14 00:01:37,000] Trial 31 finished with value: 0.8955954323001631 and parameters: {'enable_categorical': True, 'objective': 'binary:logistic', 'device': 'cuda', 'n_estimators': 447, 'scale_pos_weight': 30, 'lambda': 0.2061572499273049, 'alpha': 0.06362888705902695, 'max_depth': 9, 'min_child_weight': 9, 'eta': 0.35776392457190437}. Best is trial 11 with value: 0.9.\n",
      "[I 2023-11-14 00:02:05,126] Trial 32 finished with value: 0.8829190056134724 and parameters: {'enable_categorical': True, 'objective': 'binary:logistic', 'device': 'cuda', 'n_estimators': 308, 'scale_pos_weight': 30, 'lambda': 0.20597960724831424, 'alpha': 0.06987423346479803, 'max_depth': 9, 'min_child_weight': 9, 'eta': 0.264393980874786}. Best is trial 11 with value: 0.9.\n",
      "[I 2023-11-14 00:02:42,716] Trial 33 finished with value: 0.8302169035153328 and parameters: {'enable_categorical': True, 'objective': 'binary:logistic', 'device': 'cuda', 'n_estimators': 414, 'scale_pos_weight': 30, 'lambda': 0.05912893755782702, 'alpha': 0.8241091670188845, 'max_depth': 9, 'min_child_weight': 8, 'eta': 0.07779301534350949}. Best is trial 11 with value: 0.9.\n",
      "[I 2023-11-14 00:03:06,156] Trial 34 finished with value: 0.6332067281606077 and parameters: {'enable_categorical': True, 'objective': 'binary:logistic', 'device': 'cuda', 'n_estimators': 449, 'scale_pos_weight': 30, 'lambda': 0.31986160923292023, 'alpha': 0.18152767257388516, 'max_depth': 3, 'min_child_weight': 9, 'eta': 0.35916952407547276}. Best is trial 11 with value: 0.9.\n",
      "/home/swap/.local/lib/python3.10/site-packages/sklearn/metrics/_classification.py:1469: UndefinedMetricWarning:\n",
      "\n",
      "Recall is ill-defined and being set to 0.0 due to no true samples. Use `zero_division` parameter to control this behavior.\n",
      "\n",
      "[I 2023-11-14 00:03:37,812] Trial 35 finished with value: 0.0 and parameters: {'enable_categorical': True, 'objective': 'binary:logistic', 'device': 'cuda', 'n_estimators': 415, 'scale_pos_weight': 400, 'lambda': 0.030341775525442146, 'alpha': 0.03266581686156726, 'max_depth': 7, 'min_child_weight': 8, 'eta': 6.461964082581834e-05}. Best is trial 11 with value: 0.9.\n",
      "[I 2023-11-14 00:04:10,630] Trial 36 finished with value: 0.893061224489796 and parameters: {'enable_categorical': True, 'objective': 'binary:logistic', 'device': 'cuda', 'n_estimators': 384, 'scale_pos_weight': 30, 'lambda': 0.3095610242520901, 'alpha': 0.004852333422838272, 'max_depth': 9, 'min_child_weight': 9, 'eta': 0.36671239933048755}. Best is trial 11 with value: 0.9.\n",
      "[I 2023-11-14 00:04:40,538] Trial 37 finished with value: 0.7091805298829328 and parameters: {'enable_categorical': True, 'objective': 'binary:logistic', 'device': 'cuda', 'n_estimators': 386, 'scale_pos_weight': 30, 'lambda': 0.010007359763431558, 'alpha': 0.004489686756884952, 'max_depth': 7, 'min_child_weight': 9, 'eta': 0.04853387920446995}. Best is trial 11 with value: 0.9.\n",
      "[I 2023-11-14 00:05:13,288] Trial 38 finished with value: 0.8928571428571429 and parameters: {'enable_categorical': True, 'objective': 'binary:logistic', 'device': 'cuda', 'n_estimators': 367, 'scale_pos_weight': 80, 'lambda': 0.04121095328897156, 'alpha': 0.009982199888437121, 'max_depth': 9, 'min_child_weight': 6, 'eta': 0.5099442574846056}. Best is trial 11 with value: 0.9.\n"
     ]
    },
    {
     "name": "stderr",
     "output_type": "stream",
     "text": [
      "[I 2023-11-14 00:05:40,585] Trial 39 finished with value: 0.8511128165771297 and parameters: {'enable_categorical': True, 'objective': 'binary:logistic', 'device': 'cuda', 'n_estimators': 356, 'scale_pos_weight': 80, 'lambda': 0.036555455944118305, 'alpha': 0.017869348572927636, 'max_depth': 7, 'min_child_weight': 6, 'eta': 0.33807255237223344}. Best is trial 11 with value: 0.9.\n",
      "[I 2023-11-14 00:06:06,774] Trial 40 finished with value: 0.3961878829135466 and parameters: {'enable_categorical': True, 'objective': 'binary:logistic', 'device': 'cuda', 'n_estimators': 280, 'scale_pos_weight': 80, 'lambda': 0.17106965065559052, 'alpha': 0.001803498471616099, 'max_depth': 9, 'min_child_weight': 5, 'eta': 0.01702430940245214}. Best is trial 11 with value: 0.9.\n",
      "[I 2023-11-14 00:06:38,741] Trial 41 finished with value: 0.8894308943089431 and parameters: {'enable_categorical': True, 'objective': 'binary:logistic', 'device': 'cuda', 'n_estimators': 366, 'scale_pos_weight': 80, 'lambda': 0.031212150554980056, 'alpha': 0.00540637255728798, 'max_depth': 9, 'min_child_weight': 6, 'eta': 0.3667790118229246}. Best is trial 11 with value: 0.9.\n",
      "[I 2023-11-14 00:07:14,429] Trial 42 finished with value: 0.796863863150392 and parameters: {'enable_categorical': True, 'objective': 'binary:logistic', 'device': 'cuda', 'n_estimators': 386, 'scale_pos_weight': 80, 'lambda': 0.011531169293499325, 'alpha': 0.047427879104929856, 'max_depth': 9, 'min_child_weight': 4, 'eta': 0.07856772965552673}. Best is trial 11 with value: 0.9.\n",
      "[I 2023-11-14 00:07:48,327] Trial 43 finished with value: 0.8676122931442081 and parameters: {'enable_categorical': True, 'objective': 'binary:logistic', 'device': 'cuda', 'n_estimators': 392, 'scale_pos_weight': 400, 'lambda': 0.38539945799040287, 'alpha': 0.011513842040435337, 'max_depth': 9, 'min_child_weight': 5, 'eta': 0.4381601237939478}. Best is trial 11 with value: 0.9.\n",
      "[I 2023-11-14 00:08:30,457] Trial 44 finished with value: 0.873116574147502 and parameters: {'enable_categorical': True, 'objective': 'binary:logistic', 'device': 'cuda', 'n_estimators': 481, 'scale_pos_weight': 80, 'lambda': 0.04507061845282084, 'alpha': 0.026839388455195547, 'max_depth': 9, 'min_child_weight': 6, 'eta': 0.14891566779129337}. Best is trial 11 with value: 0.9.\n",
      "[I 2023-11-14 00:08:52,172] Trial 45 finished with value: 0.7728208647906658 and parameters: {'enable_categorical': True, 'objective': 'binary:logistic', 'device': 'cuda', 'n_estimators': 326, 'scale_pos_weight': 80, 'lambda': 0.3208401845571492, 'alpha': 0.00035223085113798695, 'max_depth': 5, 'min_child_weight': 10, 'eta': 0.6084574112146875}. Best is trial 11 with value: 0.9.\n",
      "[I 2023-11-14 00:09:18,605] Trial 46 finished with value: 0.72674791533034 and parameters: {'enable_categorical': True, 'objective': 'binary:logistic', 'device': 'cuda', 'n_estimators': 281, 'scale_pos_weight': 30, 'lambda': 0.002229623604896514, 'alpha': 0.001260902266445813, 'max_depth': 9, 'min_child_weight': 7, 'eta': 0.039354689447482376}. Best is trial 11 with value: 0.9.\n",
      "[I 2023-11-14 00:09:39,819] Trial 47 finished with value: 0.0019786637878751122 and parameters: {'enable_categorical': True, 'objective': 'binary:logistic', 'device': 'cuda', 'n_estimators': 486, 'scale_pos_weight': 400, 'lambda': 0.1548041057537521, 'alpha': 0.0033013116693379144, 'max_depth': 9, 'min_child_weight': 10, 'eta': 0.9619598325537133}. Best is trial 11 with value: 0.9.\n",
      "[I 2023-11-14 00:10:12,837] Trial 48 finished with value: 0.8406015037593985 and parameters: {'enable_categorical': True, 'objective': 'binary:logistic', 'device': 'cuda', 'n_estimators': 445, 'scale_pos_weight': 30, 'lambda': 0.4838481522419776, 'alpha': 0.009235427918034205, 'max_depth': 7, 'min_child_weight': 9, 'eta': 0.16342715640800473}. Best is trial 11 with value: 0.9.\n",
      "[I 2023-11-14 00:10:33,775] Trial 49 finished with value: 0.4721219414360209 and parameters: {'enable_categorical': True, 'objective': 'binary:logistic', 'device': 'cuda', 'n_estimators': 398, 'scale_pos_weight': 80, 'lambda': 0.015310209470853096, 'alpha': 0.04127837325406306, 'max_depth': 3, 'min_child_weight': 4, 'eta': 0.5905874459844077}. Best is trial 11 with value: 0.9.\n"
     ]
    }
   ],
   "source": [
    "study = optuna.create_study(direction='maximize')\n",
    "study.optimize(objective, n_trials=50)"
   ]
  },
  {
   "cell_type": "code",
   "execution_count": 81,
   "id": "884cc647",
   "metadata": {
    "ExecuteTime": {
     "end_time": "2023-11-14T07:13:28.040246Z",
     "start_time": "2023-11-14T07:13:28.032244Z"
    }
   },
   "outputs": [
    {
     "data": {
      "text/plain": [
       "{'enable_categorical': True,\n",
       " 'objective': 'binary:logistic',\n",
       " 'device': 'cuda',\n",
       " 'n_estimators': 479,\n",
       " 'scale_pos_weight': 30,\n",
       " 'lambda': 0.6224268941182626,\n",
       " 'alpha': 0.017567160437197013,\n",
       " 'max_depth': 9,\n",
       " 'min_child_weight': 10,\n",
       " 'eta': 0.43304830341087985}"
      ]
     },
     "execution_count": 81,
     "metadata": {},
     "output_type": "execute_result"
    }
   ],
   "source": [
    "best_params = study.best_params\n",
    "best_params"
   ]
  },
  {
   "cell_type": "code",
   "execution_count": 82,
   "id": "1c00d560",
   "metadata": {
    "ExecuteTime": {
     "end_time": "2023-11-14T07:14:09.283881Z",
     "start_time": "2023-11-14T07:13:28.430393Z"
    }
   },
   "outputs": [],
   "source": [
    "# Fit a model on the best parameters \n",
    "model = xgb.XGBClassifier(**best_params)\n",
    "model.fit(X_train, y_train)\n",
    "\n",
    "# Check against the testing dataset\n",
    "preds = model.predict(X_test)"
   ]
  },
  {
   "cell_type": "code",
   "execution_count": 83,
   "id": "8ce435dd",
   "metadata": {
    "ExecuteTime": {
     "end_time": "2023-11-14T07:14:11.163370Z",
     "start_time": "2023-11-14T07:14:09.288931Z"
    }
   },
   "outputs": [
    {
     "data": {
      "image/png": "[encoded data removed]",
      "text/plain": [
       "<Figure size 500x400 with 2 Axes>"
      ]
     },
     "metadata": {},
     "output_type": "display_data"
    },
    {
     "data": {
      "text/plain": [
       "{'Accuracy': 1.0, 'Precision': 0.902, 'Recall': 0.831, 'F1 Score': 0.865}"
      ]
     },
     "execution_count": 83,
     "metadata": {},
     "output_type": "execute_result"
    }
   ],
   "source": [
    "# Look at the metrics\n",
    "metrics(y_test, preds)"
   ]
  },
  {
   "cell_type": "code",
   "execution_count": 85,
   "id": "adf80bc2",
   "metadata": {
    "ExecuteTime": {
     "end_time": "2023-11-14T07:15:46.212289Z",
     "start_time": "2023-11-14T07:15:46.208327Z"
    }
   },
   "outputs": [],
   "source": [
    "# Look at the feature importance\n",
    "ax = xgb.plot_importance(model)\n",
    "fig = ax.figure\n",
    "fig.set_size_inches(10, 5)"
   ]
  }
 ],
 "metadata": {
  "kernelspec": {
   "display_name": "Python 3 (ipykernel)",
   "language": "python",
   "name": "python3"
  },
  "language_info": {
   "codemirror_mode": {
    "name": "ipython",
    "version": 3
   },
   "file_extension": ".py",
   "mimetype": "text/x-python",
   "name": "python",
   "nbconvert_exporter": "python",
   "pygments_lexer": "ipython3",
   "version": "3.10.12"
  }
 },
 "nbformat": 4,
 "nbformat_minor": 5
}
