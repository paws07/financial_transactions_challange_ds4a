{
 "cells": [
  {
   "cell_type": "code",
   "execution_count": 1,
   "id": "fd06e034",
   "metadata": {
    "ExecuteTime": {
     "end_time": "2023-11-14T05:32:31.215503Z",
     "start_time": "2023-11-14T05:32:30.884247Z"
    }
   },
   "outputs": [],
   "source": [
    "import pandas as pd\n",
    "import numpy as np\n",
    "from IPython.display import display as d"
   ]
  },
  {
   "cell_type": "code",
   "execution_count": 2,
   "id": "ba07af87",
   "metadata": {
    "ExecuteTime": {
     "end_time": "2023-11-14T05:32:31.224911Z",
     "start_time": "2023-11-14T05:32:31.220148Z"
    }
   },
   "outputs": [],
   "source": [
    "def max_display_columns(df: pd.core.frame.DataFrame):\n",
    "    \"\"\"Given a pandas df, display all columns\"\"\"\n",
    "    with pd.option_context(\"display.max_columns\", None):\n",
    "        d(df)"
   ]
  },
  {
   "cell_type": "markdown",
   "id": "4b7fe0a2",
   "metadata": {},
   "source": [
    "## Transactions "
   ]
  },
  {
   "cell_type": "code",
   "execution_count": 48,
   "id": "a04a10cf",
   "metadata": {
    "ExecuteTime": {
     "end_time": "2023-11-14T05:40:35.131199Z",
     "start_time": "2023-11-14T05:40:33.379910Z"
    }
   },
   "outputs": [],
   "source": [
    "transactions = pd.read_parquet('credit_card_transaction_data_de.parquet')"
   ]
  },
  {
   "cell_type": "code",
   "execution_count": 49,
   "id": "cd4a6602",
   "metadata": {
    "ExecuteTime": {
     "end_time": "2023-11-14T05:40:38.429219Z",
     "start_time": "2023-11-14T05:40:35.138885Z"
    }
   },
   "outputs": [],
   "source": [
    "# Clean the amounts field, remove $\n",
    "transactions['Amount'] = transactions['Amount'].str.replace('$', '', regex=True).astype(float)"
   ]
  },
  {
   "cell_type": "code",
   "execution_count": 50,
   "id": "43178b8f",
   "metadata": {
    "ExecuteTime": {
     "end_time": "2023-11-14T05:40:38.864824Z",
     "start_time": "2023-11-14T05:40:38.433743Z"
    }
   },
   "outputs": [],
   "source": [
    "transactions = transactions.reset_index(drop=True)"
   ]
  },
  {
   "cell_type": "code",
   "execution_count": 55,
   "id": "c89ed86b",
   "metadata": {
    "ExecuteTime": {
     "end_time": "2023-11-14T05:41:31.104275Z",
     "start_time": "2023-11-14T05:41:30.405035Z"
    }
   },
   "outputs": [],
   "source": [
    "transactions['DayOnlyTime'] = transactions['Time'].between('10:00', '20:00')"
   ]
  },
  {
   "cell_type": "code",
   "execution_count": 56,
   "id": "a4fa425b",
   "metadata": {
    "ExecuteTime": {
     "end_time": "2023-11-14T05:41:37.322803Z",
     "start_time": "2023-11-14T05:41:37.315942Z"
    }
   },
   "outputs": [],
   "source": [
    "transactions.rename(columns={'Errors?':'Errors', 'Is Fraud?':'Fraud'}, inplace=True)"
   ]
  },
  {
   "cell_type": "code",
   "execution_count": 57,
   "id": "d55b11a1",
   "metadata": {
    "ExecuteTime": {
     "end_time": "2023-11-14T05:41:37.794825Z",
     "start_time": "2023-11-14T05:41:37.506683Z"
    }
   },
   "outputs": [],
   "source": [
    "transaction_columns = ['User', 'Card', 'Amount', 'Use Chip', 'DayOnlyTime',\n",
    "                       'Merchant State', 'MCC', 'Errors', 'Fraud']\n",
    "transactions = transactions[transaction_columns]"
   ]
  },
  {
   "cell_type": "markdown",
   "id": "72d40437",
   "metadata": {},
   "source": [
    "### Users"
   ]
  },
  {
   "cell_type": "code",
   "execution_count": 8,
   "id": "92360402",
   "metadata": {
    "ExecuteTime": {
     "end_time": "2023-11-14T05:32:37.068580Z",
     "start_time": "2023-11-14T05:32:37.032923Z"
    }
   },
   "outputs": [],
   "source": [
    "users = pd.read_parquet('credit_card_users_de.parquet')"
   ]
  },
  {
   "cell_type": "code",
   "execution_count": 9,
   "id": "26d6f246",
   "metadata": {
    "ExecuteTime": {
     "end_time": "2023-11-14T05:32:37.151485Z",
     "start_time": "2023-11-14T05:32:37.074370Z"
    }
   },
   "outputs": [],
   "source": [
    "users_columns = ['Current Age', 'Retirement Age', 'State',  \n",
    "                 'Per Capita Income - Zipcode', 'Yearly Income - Person', \n",
    "                 'Total Debt', 'FICO Score', 'Num Credit Cards']\n",
    "users = users[users_columns]"
   ]
  },
  {
   "cell_type": "code",
   "execution_count": 10,
   "id": "48d4a9d4",
   "metadata": {
    "ExecuteTime": {
     "end_time": "2023-11-14T05:32:37.267760Z",
     "start_time": "2023-11-14T05:32:37.156930Z"
    }
   },
   "outputs": [],
   "source": [
    "users['CurrentlyRetired'] = users['Retirement Age'] <= users['Current Age'] "
   ]
  },
  {
   "cell_type": "code",
   "execution_count": 11,
   "id": "a3b2e474",
   "metadata": {
    "ExecuteTime": {
     "end_time": "2023-11-14T05:32:37.396825Z",
     "start_time": "2023-11-14T05:32:37.273844Z"
    }
   },
   "outputs": [],
   "source": [
    "# Convert some columns to float\n",
    "for col in ['Per Capita Income - Zipcode', 'Yearly Income - Person', 'Total Debt']:\n",
    "    users[col] = users[col].str.replace('$', '', regex=True).astype(float)"
   ]
  },
  {
   "cell_type": "code",
   "execution_count": 12,
   "id": "cff70ac3",
   "metadata": {
    "ExecuteTime": {
     "end_time": "2023-11-14T05:32:37.502410Z",
     "start_time": "2023-11-14T05:32:37.406663Z"
    }
   },
   "outputs": [],
   "source": [
    "users['DebtIncomeRatio'] = users['Total Debt'].div(users['Yearly Income - Person'])\n",
    "users['ZipIncomeRatio'] = users['Per Capita Income - Zipcode'].div(users['Yearly Income - Person'])"
   ]
  },
  {
   "cell_type": "code",
   "execution_count": 13,
   "id": "c694a843",
   "metadata": {
    "ExecuteTime": {
     "end_time": "2023-11-14T05:32:37.619034Z",
     "start_time": "2023-11-14T05:32:37.508327Z"
    }
   },
   "outputs": [],
   "source": [
    "users.drop(columns=['Retirement Age', 'Total Debt', 'Per Capita Income - Zipcode'], inplace=True)"
   ]
  },
  {
   "cell_type": "code",
   "execution_count": 14,
   "id": "8c07e60e",
   "metadata": {
    "ExecuteTime": {
     "end_time": "2023-11-14T05:32:37.891039Z",
     "start_time": "2023-11-14T05:32:37.623946Z"
    }
   },
   "outputs": [],
   "source": [
    "users = users.reset_index().rename(columns={'index':'User'})"
   ]
  },
  {
   "cell_type": "markdown",
   "id": "b38923f1",
   "metadata": {},
   "source": [
    "### Cards"
   ]
  },
  {
   "cell_type": "code",
   "execution_count": 15,
   "id": "9da16476",
   "metadata": {
    "ExecuteTime": {
     "end_time": "2023-11-14T05:32:38.158466Z",
     "start_time": "2023-11-14T05:32:37.897143Z"
    }
   },
   "outputs": [],
   "source": [
    "cards = pd.read_parquet('sd254_cards_de.parquet')"
   ]
  },
  {
   "cell_type": "code",
   "execution_count": 16,
   "id": "aa039481",
   "metadata": {
    "ExecuteTime": {
     "end_time": "2023-11-14T05:32:38.350765Z",
     "start_time": "2023-11-14T05:32:38.161679Z"
    }
   },
   "outputs": [],
   "source": [
    "cards_columns = ['User', 'CARD INDEX', 'Card Brand', 'Card Type',\n",
    "                 'Has Chip', 'Cards Issued', 'Credit Limit']\n",
    "cards = cards[cards_columns]"
   ]
  },
  {
   "cell_type": "code",
   "execution_count": 17,
   "id": "3d6816ad",
   "metadata": {
    "ExecuteTime": {
     "end_time": "2023-11-14T05:32:38.474991Z",
     "start_time": "2023-11-14T05:32:38.355539Z"
    }
   },
   "outputs": [],
   "source": [
    "cards['Credit Limit'] = cards['Credit Limit'].str.replace('$', '', regex=True).astype(float)"
   ]
  },
  {
   "cell_type": "markdown",
   "id": "4e65c664",
   "metadata": {},
   "source": [
    "### Combine All"
   ]
  },
  {
   "cell_type": "code",
   "execution_count": 69,
   "id": "bb8cef0e",
   "metadata": {
    "ExecuteTime": {
     "end_time": "2023-11-14T05:55:06.685177Z",
     "start_time": "2023-11-14T05:55:06.659248Z"
    }
   },
   "outputs": [
    {
     "data": {
      "text/html": [
       "<div>\n",
       "<style scoped>\n",
       "    .dataframe tbody tr th:only-of-type {\n",
       "        vertical-align: middle;\n",
       "    }\n",
       "\n",
       "    .dataframe tbody tr th {\n",
       "        vertical-align: top;\n",
       "    }\n",
       "\n",
       "    .dataframe thead th {\n",
       "        text-align: right;\n",
       "    }\n",
       "</style>\n",
       "<table border=\"1\" class=\"dataframe\">\n",
       "  <thead>\n",
       "    <tr style=\"text-align: right;\">\n",
       "      <th></th>\n",
       "      <th>User</th>\n",
       "      <th>Current Age</th>\n",
       "      <th>State</th>\n",
       "      <th>Yearly Income - Person</th>\n",
       "      <th>FICO Score</th>\n",
       "      <th>Num Credit Cards</th>\n",
       "      <th>CurrentlyRetired</th>\n",
       "      <th>DebtIncomeRatio</th>\n",
       "      <th>ZipIncomeRatio</th>\n",
       "      <th>CARD INDEX</th>\n",
       "      <th>Card Brand</th>\n",
       "      <th>Card Type</th>\n",
       "      <th>Has Chip</th>\n",
       "      <th>Cards Issued</th>\n",
       "      <th>Credit Limit</th>\n",
       "    </tr>\n",
       "  </thead>\n",
       "  <tbody>\n",
       "    <tr>\n",
       "      <th>0</th>\n",
       "      <td>0</td>\n",
       "      <td>53</td>\n",
       "      <td>CA</td>\n",
       "      <td>59696.0</td>\n",
       "      <td>787</td>\n",
       "      <td>5</td>\n",
       "      <td>False</td>\n",
       "      <td>2.137714</td>\n",
       "      <td>0.490452</td>\n",
       "      <td>0</td>\n",
       "      <td>Visa</td>\n",
       "      <td>Debit</td>\n",
       "      <td>YES</td>\n",
       "      <td>2</td>\n",
       "      <td>24295.0</td>\n",
       "    </tr>\n",
       "    <tr>\n",
       "      <th>1</th>\n",
       "      <td>0</td>\n",
       "      <td>53</td>\n",
       "      <td>CA</td>\n",
       "      <td>59696.0</td>\n",
       "      <td>787</td>\n",
       "      <td>5</td>\n",
       "      <td>False</td>\n",
       "      <td>2.137714</td>\n",
       "      <td>0.490452</td>\n",
       "      <td>1</td>\n",
       "      <td>Visa</td>\n",
       "      <td>Debit</td>\n",
       "      <td>YES</td>\n",
       "      <td>2</td>\n",
       "      <td>21968.0</td>\n",
       "    </tr>\n",
       "    <tr>\n",
       "      <th>2</th>\n",
       "      <td>0</td>\n",
       "      <td>53</td>\n",
       "      <td>CA</td>\n",
       "      <td>59696.0</td>\n",
       "      <td>787</td>\n",
       "      <td>5</td>\n",
       "      <td>False</td>\n",
       "      <td>2.137714</td>\n",
       "      <td>0.490452</td>\n",
       "      <td>2</td>\n",
       "      <td>Visa</td>\n",
       "      <td>Debit</td>\n",
       "      <td>YES</td>\n",
       "      <td>2</td>\n",
       "      <td>46414.0</td>\n",
       "    </tr>\n",
       "    <tr>\n",
       "      <th>3</th>\n",
       "      <td>0</td>\n",
       "      <td>53</td>\n",
       "      <td>CA</td>\n",
       "      <td>59696.0</td>\n",
       "      <td>787</td>\n",
       "      <td>5</td>\n",
       "      <td>False</td>\n",
       "      <td>2.137714</td>\n",
       "      <td>0.490452</td>\n",
       "      <td>3</td>\n",
       "      <td>Visa</td>\n",
       "      <td>Credit</td>\n",
       "      <td>NO</td>\n",
       "      <td>1</td>\n",
       "      <td>12400.0</td>\n",
       "    </tr>\n",
       "    <tr>\n",
       "      <th>4</th>\n",
       "      <td>0</td>\n",
       "      <td>53</td>\n",
       "      <td>CA</td>\n",
       "      <td>59696.0</td>\n",
       "      <td>787</td>\n",
       "      <td>5</td>\n",
       "      <td>False</td>\n",
       "      <td>2.137714</td>\n",
       "      <td>0.490452</td>\n",
       "      <td>4</td>\n",
       "      <td>Mastercard</td>\n",
       "      <td>Debit (Prepaid)</td>\n",
       "      <td>YES</td>\n",
       "      <td>1</td>\n",
       "      <td>28.0</td>\n",
       "    </tr>\n",
       "    <tr>\n",
       "      <th>...</th>\n",
       "      <td>...</td>\n",
       "      <td>...</td>\n",
       "      <td>...</td>\n",
       "      <td>...</td>\n",
       "      <td>...</td>\n",
       "      <td>...</td>\n",
       "      <td>...</td>\n",
       "      <td>...</td>\n",
       "      <td>...</td>\n",
       "      <td>...</td>\n",
       "      <td>...</td>\n",
       "      <td>...</td>\n",
       "      <td>...</td>\n",
       "      <td>...</td>\n",
       "      <td>...</td>\n",
       "    </tr>\n",
       "    <tr>\n",
       "      <th>6141</th>\n",
       "      <td>1997</td>\n",
       "      <td>47</td>\n",
       "      <td>NJ</td>\n",
       "      <td>30942.0</td>\n",
       "      <td>779</td>\n",
       "      <td>3</td>\n",
       "      <td>False</td>\n",
       "      <td>2.296749</td>\n",
       "      <td>0.490434</td>\n",
       "      <td>1</td>\n",
       "      <td>Amex</td>\n",
       "      <td>Credit</td>\n",
       "      <td>YES</td>\n",
       "      <td>1</td>\n",
       "      <td>6900.0</td>\n",
       "    </tr>\n",
       "    <tr>\n",
       "      <th>6142</th>\n",
       "      <td>1997</td>\n",
       "      <td>47</td>\n",
       "      <td>NJ</td>\n",
       "      <td>30942.0</td>\n",
       "      <td>779</td>\n",
       "      <td>3</td>\n",
       "      <td>False</td>\n",
       "      <td>2.296749</td>\n",
       "      <td>0.490434</td>\n",
       "      <td>2</td>\n",
       "      <td>Visa</td>\n",
       "      <td>Credit</td>\n",
       "      <td>YES</td>\n",
       "      <td>2</td>\n",
       "      <td>5700.0</td>\n",
       "    </tr>\n",
       "    <tr>\n",
       "      <th>6143</th>\n",
       "      <td>1998</td>\n",
       "      <td>66</td>\n",
       "      <td>PA</td>\n",
       "      <td>54654.0</td>\n",
       "      <td>618</td>\n",
       "      <td>1</td>\n",
       "      <td>True</td>\n",
       "      <td>0.498426</td>\n",
       "      <td>0.463571</td>\n",
       "      <td>0</td>\n",
       "      <td>Mastercard</td>\n",
       "      <td>Credit</td>\n",
       "      <td>NO</td>\n",
       "      <td>2</td>\n",
       "      <td>9200.0</td>\n",
       "    </tr>\n",
       "    <tr>\n",
       "      <th>6144</th>\n",
       "      <td>1999</td>\n",
       "      <td>21</td>\n",
       "      <td>NH</td>\n",
       "      <td>65909.0</td>\n",
       "      <td>673</td>\n",
       "      <td>2</td>\n",
       "      <td>False</td>\n",
       "      <td>2.750171</td>\n",
       "      <td>0.490449</td>\n",
       "      <td>0</td>\n",
       "      <td>Mastercard</td>\n",
       "      <td>Debit</td>\n",
       "      <td>YES</td>\n",
       "      <td>1</td>\n",
       "      <td>28074.0</td>\n",
       "    </tr>\n",
       "    <tr>\n",
       "      <th>6145</th>\n",
       "      <td>1999</td>\n",
       "      <td>21</td>\n",
       "      <td>NH</td>\n",
       "      <td>65909.0</td>\n",
       "      <td>673</td>\n",
       "      <td>2</td>\n",
       "      <td>False</td>\n",
       "      <td>2.750171</td>\n",
       "      <td>0.490449</td>\n",
       "      <td>1</td>\n",
       "      <td>Visa</td>\n",
       "      <td>Credit</td>\n",
       "      <td>YES</td>\n",
       "      <td>1</td>\n",
       "      <td>14400.0</td>\n",
       "    </tr>\n",
       "  </tbody>\n",
       "</table>\n",
       "<p>6146 rows × 15 columns</p>\n",
       "</div>"
      ],
      "text/plain": [
       "      User  Current Age State  Yearly Income - Person  FICO Score  \\\n",
       "0        0           53    CA                 59696.0         787   \n",
       "1        0           53    CA                 59696.0         787   \n",
       "2        0           53    CA                 59696.0         787   \n",
       "3        0           53    CA                 59696.0         787   \n",
       "4        0           53    CA                 59696.0         787   \n",
       "...    ...          ...   ...                     ...         ...   \n",
       "6141  1997           47    NJ                 30942.0         779   \n",
       "6142  1997           47    NJ                 30942.0         779   \n",
       "6143  1998           66    PA                 54654.0         618   \n",
       "6144  1999           21    NH                 65909.0         673   \n",
       "6145  1999           21    NH                 65909.0         673   \n",
       "\n",
       "      Num Credit Cards  CurrentlyRetired  DebtIncomeRatio  ZipIncomeRatio  \\\n",
       "0                    5             False         2.137714        0.490452   \n",
       "1                    5             False         2.137714        0.490452   \n",
       "2                    5             False         2.137714        0.490452   \n",
       "3                    5             False         2.137714        0.490452   \n",
       "4                    5             False         2.137714        0.490452   \n",
       "...                ...               ...              ...             ...   \n",
       "6141                 3             False         2.296749        0.490434   \n",
       "6142                 3             False         2.296749        0.490434   \n",
       "6143                 1              True         0.498426        0.463571   \n",
       "6144                 2             False         2.750171        0.490449   \n",
       "6145                 2             False         2.750171        0.490449   \n",
       "\n",
       "      CARD INDEX  Card Brand        Card Type Has Chip  Cards Issued  \\\n",
       "0              0        Visa            Debit      YES             2   \n",
       "1              1        Visa            Debit      YES             2   \n",
       "2              2        Visa            Debit      YES             2   \n",
       "3              3        Visa           Credit       NO             1   \n",
       "4              4  Mastercard  Debit (Prepaid)      YES             1   \n",
       "...          ...         ...              ...      ...           ...   \n",
       "6141           1        Amex           Credit      YES             1   \n",
       "6142           2        Visa           Credit      YES             2   \n",
       "6143           0  Mastercard           Credit       NO             2   \n",
       "6144           0  Mastercard            Debit      YES             1   \n",
       "6145           1        Visa           Credit      YES             1   \n",
       "\n",
       "      Credit Limit  \n",
       "0          24295.0  \n",
       "1          21968.0  \n",
       "2          46414.0  \n",
       "3          12400.0  \n",
       "4             28.0  \n",
       "...            ...  \n",
       "6141        6900.0  \n",
       "6142        5700.0  \n",
       "6143        9200.0  \n",
       "6144       28074.0  \n",
       "6145       14400.0  \n",
       "\n",
       "[6146 rows x 15 columns]"
      ]
     },
     "execution_count": 69,
     "metadata": {},
     "output_type": "execute_result"
    }
   ],
   "source": [
    "user_and_card = users.merge(cards,\n",
    "                            how='left',\n",
    "                            left_on='User',\n",
    "                            right_on='User')\n",
    "user_and_card"
   ]
  },
  {
   "cell_type": "code",
   "execution_count": 70,
   "id": "4dbbe6e0",
   "metadata": {
    "ExecuteTime": {
     "end_time": "2023-11-14T05:55:09.018190Z",
     "start_time": "2023-11-14T05:55:06.913412Z"
    }
   },
   "outputs": [],
   "source": [
    "all_joined = transactions.merge(user_and_card,\n",
    "                              left_on=['User', 'Card'],\n",
    "                              right_on=['User', 'CARD INDEX'])"
   ]
  },
  {
   "cell_type": "code",
   "execution_count": 71,
   "id": "ad0569b0",
   "metadata": {
    "ExecuteTime": {
     "end_time": "2023-11-14T05:55:09.054007Z",
     "start_time": "2023-11-14T05:55:09.020684Z"
    },
    "scrolled": false
   },
   "outputs": [
    {
     "data": {
      "text/html": [
       "<div>\n",
       "<style scoped>\n",
       "    .dataframe tbody tr th:only-of-type {\n",
       "        vertical-align: middle;\n",
       "    }\n",
       "\n",
       "    .dataframe tbody tr th {\n",
       "        vertical-align: top;\n",
       "    }\n",
       "\n",
       "    .dataframe thead th {\n",
       "        text-align: right;\n",
       "    }\n",
       "</style>\n",
       "<table border=\"1\" class=\"dataframe\">\n",
       "  <thead>\n",
       "    <tr style=\"text-align: right;\">\n",
       "      <th></th>\n",
       "      <th>User</th>\n",
       "      <th>Card</th>\n",
       "      <th>Amount</th>\n",
       "      <th>Use Chip</th>\n",
       "      <th>DayOnlyTime</th>\n",
       "      <th>Merchant State</th>\n",
       "      <th>MCC</th>\n",
       "      <th>Errors</th>\n",
       "      <th>Fraud</th>\n",
       "      <th>Current Age</th>\n",
       "      <th>State</th>\n",
       "      <th>Yearly Income - Person</th>\n",
       "      <th>FICO Score</th>\n",
       "      <th>Num Credit Cards</th>\n",
       "      <th>CurrentlyRetired</th>\n",
       "      <th>DebtIncomeRatio</th>\n",
       "      <th>ZipIncomeRatio</th>\n",
       "      <th>CARD INDEX</th>\n",
       "      <th>Card Brand</th>\n",
       "      <th>Card Type</th>\n",
       "      <th>Has Chip</th>\n",
       "      <th>Cards Issued</th>\n",
       "      <th>Credit Limit</th>\n",
       "    </tr>\n",
       "  </thead>\n",
       "  <tbody>\n",
       "    <tr>\n",
       "      <th>0</th>\n",
       "      <td>0</td>\n",
       "      <td>0</td>\n",
       "      <td>66.48</td>\n",
       "      <td>Chip Transaction</td>\n",
       "      <td>True</td>\n",
       "      <td>CA</td>\n",
       "      <td>7538</td>\n",
       "      <td>None</td>\n",
       "      <td>No</td>\n",
       "      <td>53</td>\n",
       "      <td>CA</td>\n",
       "      <td>59696.0</td>\n",
       "      <td>787</td>\n",
       "      <td>5</td>\n",
       "      <td>False</td>\n",
       "      <td>2.137714</td>\n",
       "      <td>0.490452</td>\n",
       "      <td>0</td>\n",
       "      <td>Visa</td>\n",
       "      <td>Debit</td>\n",
       "      <td>YES</td>\n",
       "      <td>2</td>\n",
       "      <td>24295.0</td>\n",
       "    </tr>\n",
       "    <tr>\n",
       "      <th>1</th>\n",
       "      <td>0</td>\n",
       "      <td>0</td>\n",
       "      <td>40.02</td>\n",
       "      <td>Chip Transaction</td>\n",
       "      <td>False</td>\n",
       "      <td>CA</td>\n",
       "      <td>5912</td>\n",
       "      <td>None</td>\n",
       "      <td>No</td>\n",
       "      <td>53</td>\n",
       "      <td>CA</td>\n",
       "      <td>59696.0</td>\n",
       "      <td>787</td>\n",
       "      <td>5</td>\n",
       "      <td>False</td>\n",
       "      <td>2.137714</td>\n",
       "      <td>0.490452</td>\n",
       "      <td>0</td>\n",
       "      <td>Visa</td>\n",
       "      <td>Debit</td>\n",
       "      <td>YES</td>\n",
       "      <td>2</td>\n",
       "      <td>24295.0</td>\n",
       "    </tr>\n",
       "    <tr>\n",
       "      <th>2</th>\n",
       "      <td>0</td>\n",
       "      <td>0</td>\n",
       "      <td>54.11</td>\n",
       "      <td>Chip Transaction</td>\n",
       "      <td>False</td>\n",
       "      <td>CA</td>\n",
       "      <td>7538</td>\n",
       "      <td>None</td>\n",
       "      <td>No</td>\n",
       "      <td>53</td>\n",
       "      <td>CA</td>\n",
       "      <td>59696.0</td>\n",
       "      <td>787</td>\n",
       "      <td>5</td>\n",
       "      <td>False</td>\n",
       "      <td>2.137714</td>\n",
       "      <td>0.490452</td>\n",
       "      <td>0</td>\n",
       "      <td>Visa</td>\n",
       "      <td>Debit</td>\n",
       "      <td>YES</td>\n",
       "      <td>2</td>\n",
       "      <td>24295.0</td>\n",
       "    </tr>\n",
       "    <tr>\n",
       "      <th>3</th>\n",
       "      <td>0</td>\n",
       "      <td>0</td>\n",
       "      <td>89.48</td>\n",
       "      <td>Chip Transaction</td>\n",
       "      <td>True</td>\n",
       "      <td>CA</td>\n",
       "      <td>5651</td>\n",
       "      <td>None</td>\n",
       "      <td>No</td>\n",
       "      <td>53</td>\n",
       "      <td>CA</td>\n",
       "      <td>59696.0</td>\n",
       "      <td>787</td>\n",
       "      <td>5</td>\n",
       "      <td>False</td>\n",
       "      <td>2.137714</td>\n",
       "      <td>0.490452</td>\n",
       "      <td>0</td>\n",
       "      <td>Visa</td>\n",
       "      <td>Debit</td>\n",
       "      <td>YES</td>\n",
       "      <td>2</td>\n",
       "      <td>24295.0</td>\n",
       "    </tr>\n",
       "    <tr>\n",
       "      <th>4</th>\n",
       "      <td>0</td>\n",
       "      <td>0</td>\n",
       "      <td>29.15</td>\n",
       "      <td>Chip Transaction</td>\n",
       "      <td>False</td>\n",
       "      <td>CA</td>\n",
       "      <td>5942</td>\n",
       "      <td>None</td>\n",
       "      <td>No</td>\n",
       "      <td>53</td>\n",
       "      <td>CA</td>\n",
       "      <td>59696.0</td>\n",
       "      <td>787</td>\n",
       "      <td>5</td>\n",
       "      <td>False</td>\n",
       "      <td>2.137714</td>\n",
       "      <td>0.490452</td>\n",
       "      <td>0</td>\n",
       "      <td>Visa</td>\n",
       "      <td>Debit</td>\n",
       "      <td>YES</td>\n",
       "      <td>2</td>\n",
       "      <td>24295.0</td>\n",
       "    </tr>\n",
       "    <tr>\n",
       "      <th>...</th>\n",
       "      <td>...</td>\n",
       "      <td>...</td>\n",
       "      <td>...</td>\n",
       "      <td>...</td>\n",
       "      <td>...</td>\n",
       "      <td>...</td>\n",
       "      <td>...</td>\n",
       "      <td>...</td>\n",
       "      <td>...</td>\n",
       "      <td>...</td>\n",
       "      <td>...</td>\n",
       "      <td>...</td>\n",
       "      <td>...</td>\n",
       "      <td>...</td>\n",
       "      <td>...</td>\n",
       "      <td>...</td>\n",
       "      <td>...</td>\n",
       "      <td>...</td>\n",
       "      <td>...</td>\n",
       "      <td>...</td>\n",
       "      <td>...</td>\n",
       "      <td>...</td>\n",
       "      <td>...</td>\n",
       "    </tr>\n",
       "    <tr>\n",
       "      <th>6877832</th>\n",
       "      <td>1999</td>\n",
       "      <td>1</td>\n",
       "      <td>66.53</td>\n",
       "      <td>Chip Transaction</td>\n",
       "      <td>True</td>\n",
       "      <td>NH</td>\n",
       "      <td>7538</td>\n",
       "      <td>None</td>\n",
       "      <td>No</td>\n",
       "      <td>21</td>\n",
       "      <td>NH</td>\n",
       "      <td>65909.0</td>\n",
       "      <td>673</td>\n",
       "      <td>2</td>\n",
       "      <td>False</td>\n",
       "      <td>2.750171</td>\n",
       "      <td>0.490449</td>\n",
       "      <td>1</td>\n",
       "      <td>Visa</td>\n",
       "      <td>Credit</td>\n",
       "      <td>YES</td>\n",
       "      <td>1</td>\n",
       "      <td>14400.0</td>\n",
       "    </tr>\n",
       "    <tr>\n",
       "      <th>6877833</th>\n",
       "      <td>1999</td>\n",
       "      <td>1</td>\n",
       "      <td>99.67</td>\n",
       "      <td>Chip Transaction</td>\n",
       "      <td>True</td>\n",
       "      <td>NH</td>\n",
       "      <td>5411</td>\n",
       "      <td>None</td>\n",
       "      <td>No</td>\n",
       "      <td>21</td>\n",
       "      <td>NH</td>\n",
       "      <td>65909.0</td>\n",
       "      <td>673</td>\n",
       "      <td>2</td>\n",
       "      <td>False</td>\n",
       "      <td>2.750171</td>\n",
       "      <td>0.490449</td>\n",
       "      <td>1</td>\n",
       "      <td>Visa</td>\n",
       "      <td>Credit</td>\n",
       "      <td>YES</td>\n",
       "      <td>1</td>\n",
       "      <td>14400.0</td>\n",
       "    </tr>\n",
       "    <tr>\n",
       "      <th>6877834</th>\n",
       "      <td>1999</td>\n",
       "      <td>1</td>\n",
       "      <td>93.63</td>\n",
       "      <td>Chip Transaction</td>\n",
       "      <td>True</td>\n",
       "      <td>NH</td>\n",
       "      <td>5651</td>\n",
       "      <td>None</td>\n",
       "      <td>No</td>\n",
       "      <td>21</td>\n",
       "      <td>NH</td>\n",
       "      <td>65909.0</td>\n",
       "      <td>673</td>\n",
       "      <td>2</td>\n",
       "      <td>False</td>\n",
       "      <td>2.750171</td>\n",
       "      <td>0.490449</td>\n",
       "      <td>1</td>\n",
       "      <td>Visa</td>\n",
       "      <td>Credit</td>\n",
       "      <td>YES</td>\n",
       "      <td>1</td>\n",
       "      <td>14400.0</td>\n",
       "    </tr>\n",
       "    <tr>\n",
       "      <th>6877835</th>\n",
       "      <td>1999</td>\n",
       "      <td>1</td>\n",
       "      <td>67.60</td>\n",
       "      <td>Online Transaction</td>\n",
       "      <td>False</td>\n",
       "      <td>None</td>\n",
       "      <td>4121</td>\n",
       "      <td>None</td>\n",
       "      <td>No</td>\n",
       "      <td>21</td>\n",
       "      <td>NH</td>\n",
       "      <td>65909.0</td>\n",
       "      <td>673</td>\n",
       "      <td>2</td>\n",
       "      <td>False</td>\n",
       "      <td>2.750171</td>\n",
       "      <td>0.490449</td>\n",
       "      <td>1</td>\n",
       "      <td>Visa</td>\n",
       "      <td>Credit</td>\n",
       "      <td>YES</td>\n",
       "      <td>1</td>\n",
       "      <td>14400.0</td>\n",
       "    </tr>\n",
       "    <tr>\n",
       "      <th>6877836</th>\n",
       "      <td>1999</td>\n",
       "      <td>1</td>\n",
       "      <td>51.71</td>\n",
       "      <td>Chip Transaction</td>\n",
       "      <td>False</td>\n",
       "      <td>NH</td>\n",
       "      <td>4121</td>\n",
       "      <td>None</td>\n",
       "      <td>No</td>\n",
       "      <td>21</td>\n",
       "      <td>NH</td>\n",
       "      <td>65909.0</td>\n",
       "      <td>673</td>\n",
       "      <td>2</td>\n",
       "      <td>False</td>\n",
       "      <td>2.750171</td>\n",
       "      <td>0.490449</td>\n",
       "      <td>1</td>\n",
       "      <td>Visa</td>\n",
       "      <td>Credit</td>\n",
       "      <td>YES</td>\n",
       "      <td>1</td>\n",
       "      <td>14400.0</td>\n",
       "    </tr>\n",
       "  </tbody>\n",
       "</table>\n",
       "<p>6877837 rows × 23 columns</p>\n",
       "</div>"
      ],
      "text/plain": [
       "         User  Card  Amount            Use Chip  DayOnlyTime Merchant State  \\\n",
       "0           0     0   66.48    Chip Transaction         True             CA   \n",
       "1           0     0   40.02    Chip Transaction        False             CA   \n",
       "2           0     0   54.11    Chip Transaction        False             CA   \n",
       "3           0     0   89.48    Chip Transaction         True             CA   \n",
       "4           0     0   29.15    Chip Transaction        False             CA   \n",
       "...       ...   ...     ...                 ...          ...            ...   \n",
       "6877832  1999     1   66.53    Chip Transaction         True             NH   \n",
       "6877833  1999     1   99.67    Chip Transaction         True             NH   \n",
       "6877834  1999     1   93.63    Chip Transaction         True             NH   \n",
       "6877835  1999     1   67.60  Online Transaction        False           None   \n",
       "6877836  1999     1   51.71    Chip Transaction        False             NH   \n",
       "\n",
       "          MCC Errors Fraud  Current Age State  Yearly Income - Person  \\\n",
       "0        7538   None    No           53    CA                 59696.0   \n",
       "1        5912   None    No           53    CA                 59696.0   \n",
       "2        7538   None    No           53    CA                 59696.0   \n",
       "3        5651   None    No           53    CA                 59696.0   \n",
       "4        5942   None    No           53    CA                 59696.0   \n",
       "...       ...    ...   ...          ...   ...                     ...   \n",
       "6877832  7538   None    No           21    NH                 65909.0   \n",
       "6877833  5411   None    No           21    NH                 65909.0   \n",
       "6877834  5651   None    No           21    NH                 65909.0   \n",
       "6877835  4121   None    No           21    NH                 65909.0   \n",
       "6877836  4121   None    No           21    NH                 65909.0   \n",
       "\n",
       "         FICO Score  Num Credit Cards  CurrentlyRetired  DebtIncomeRatio  \\\n",
       "0               787                 5             False         2.137714   \n",
       "1               787                 5             False         2.137714   \n",
       "2               787                 5             False         2.137714   \n",
       "3               787                 5             False         2.137714   \n",
       "4               787                 5             False         2.137714   \n",
       "...             ...               ...               ...              ...   \n",
       "6877832         673                 2             False         2.750171   \n",
       "6877833         673                 2             False         2.750171   \n",
       "6877834         673                 2             False         2.750171   \n",
       "6877835         673                 2             False         2.750171   \n",
       "6877836         673                 2             False         2.750171   \n",
       "\n",
       "         ZipIncomeRatio  CARD INDEX Card Brand Card Type Has Chip  \\\n",
       "0              0.490452           0       Visa     Debit      YES   \n",
       "1              0.490452           0       Visa     Debit      YES   \n",
       "2              0.490452           0       Visa     Debit      YES   \n",
       "3              0.490452           0       Visa     Debit      YES   \n",
       "4              0.490452           0       Visa     Debit      YES   \n",
       "...                 ...         ...        ...       ...      ...   \n",
       "6877832        0.490449           1       Visa    Credit      YES   \n",
       "6877833        0.490449           1       Visa    Credit      YES   \n",
       "6877834        0.490449           1       Visa    Credit      YES   \n",
       "6877835        0.490449           1       Visa    Credit      YES   \n",
       "6877836        0.490449           1       Visa    Credit      YES   \n",
       "\n",
       "         Cards Issued  Credit Limit  \n",
       "0                   2       24295.0  \n",
       "1                   2       24295.0  \n",
       "2                   2       24295.0  \n",
       "3                   2       24295.0  \n",
       "4                   2       24295.0  \n",
       "...               ...           ...  \n",
       "6877832             1       14400.0  \n",
       "6877833             1       14400.0  \n",
       "6877834             1       14400.0  \n",
       "6877835             1       14400.0  \n",
       "6877836             1       14400.0  \n",
       "\n",
       "[6877837 rows x 23 columns]"
      ]
     },
     "metadata": {},
     "output_type": "display_data"
    }
   ],
   "source": [
    "max_display_columns(all_joined)"
   ]
  },
  {
   "cell_type": "code",
   "execution_count": 72,
   "id": "e2d08c5a",
   "metadata": {
    "ExecuteTime": {
     "end_time": "2023-11-14T05:55:10.164972Z",
     "start_time": "2023-11-14T05:55:09.058471Z"
    }
   },
   "outputs": [],
   "source": [
    "# Columns based on all transactions\n",
    "all_joined['MerchantCustomerStateMatch'] = (all_joined['State'] == all_joined['Merchant State'])\n",
    "all_joined['InternationalTransaction'] = all_joined['Merchant State'].isin(all_joined['State'].unique())"
   ]
  },
  {
   "cell_type": "code",
   "execution_count": 73,
   "id": "d493113c",
   "metadata": {
    "ExecuteTime": {
     "end_time": "2023-11-14T05:55:11.918174Z",
     "start_time": "2023-11-14T05:55:10.168037Z"
    }
   },
   "outputs": [],
   "source": [
    "all_joined = all_joined[['Card', 'Amount', 'Use Chip', 'Merchant State', 'MCC', 'Errors',\n",
    "       'Current Age', 'Yearly Income - Person', 'FICO Score', 'DayOnlyTime',\n",
    "       'Num Credit Cards', 'CurrentlyRetired', 'DebtIncomeRatio',\n",
    "       'ZipIncomeRatio', 'Card Brand', 'Card Type', 'Has Chip',\n",
    "       'Cards Issued', 'Credit Limit', 'MerchantCustomerStateMatch', \n",
    "        'InternationalTransaction', 'Fraud']]"
   ]
  },
  {
   "cell_type": "code",
   "execution_count": 68,
   "id": "42d594e8",
   "metadata": {
    "ExecuteTime": {
     "end_time": "2023-11-14T05:42:09.370670Z",
     "start_time": "2023-11-14T05:42:05.220154Z"
    }
   },
   "outputs": [],
   "source": [
    "all_joined.to_parquet('joined_transactions.parquet')"
   ]
  }
 ],
 "metadata": {
  "kernelspec": {
   "display_name": "Python 3 (ipykernel)",
   "language": "python",
   "name": "python3"
  },
  "language_info": {
   "codemirror_mode": {
    "name": "ipython",
    "version": 3
   },
   "file_extension": ".py",
   "mimetype": "text/x-python",
   "name": "python",
   "nbconvert_exporter": "python",
   "pygments_lexer": "ipython3",
   "version": "3.10.12"
  }
 },
 "nbformat": 4,
 "nbformat_minor": 5
}
